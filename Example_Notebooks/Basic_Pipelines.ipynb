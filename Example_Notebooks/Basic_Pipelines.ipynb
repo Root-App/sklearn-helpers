{
 "cells": [
  {
   "cell_type": "markdown",
   "metadata": {},
   "source": [
    "# Basic Pipelines\n",
    "\n",
    "In this notebook, we'll see how to use pipelines to fit a predictive model which contains a random forest, followed by a quantile calibration step."
   ]
  },
  {
   "cell_type": "code",
   "execution_count": 1,
   "metadata": {},
   "outputs": [],
   "source": [
    "from sklearn.datasets import make_regression\n",
    "from sklearn.model_selection import train_test_split\n",
    "\n",
    "X, y = make_regression(n_samples=500, n_features=5)\n",
    "X_train, X_test, y_train, y_test = train_test_split(X, y, test_size=0.2)"
   ]
  },
  {
   "cell_type": "code",
   "execution_count": 2,
   "metadata": {},
   "outputs": [],
   "source": [
    "from sklearn_helpers import RandomForestTransformer, QuantileCalibrator\n",
    "from sklearn.pipeline import Pipeline\n",
    "\n",
    "steps = [\n",
    "    ('random_forest', RandomForestTransformer(n_estimators=100, max_features=0.33)),\n",
    "    ('quantile_calibrator', QuantileCalibrator(quantiles=25, isotonic_fit=True, isotonic_lambda=1.0))\n",
    "]\n",
    "\n",
    "model = Pipeline(steps=steps)"
   ]
  },
  {
   "cell_type": "markdown",
   "metadata": {},
   "source": [
    "The `Pipeline` class constructor expects the argument `steps`.\n",
    "This argument must be a `list` of ordered-pairs where each is of the form `('step_name', estimator)`.\n",
    "\n",
    "In this example, the first step is a `RandomForestTransformer` and the second is a `QuantileCalibrator`.\n",
    "\n",
    "`sklearn`'s pipeline API enforces that only the final step in a pipeline can be a predicting estimator, either a regressor or a transformer. Since `RandomForestRegressor` is a regressor, we cannot put it at the top of the pipeline. Instead, we can use `sklearn_helper`'s `RandomForestTransformer` class, which is simply a wrapper around `RamdomForestRegressor`:\n",
    "\n",
    "```python\n",
    "class RandomForestTransformer(RandomForestRegressor, TransformerMixin):\n",
    "    \n",
    "    def transform(self, X, y=None):\n",
    "        return self.predict(X)\n",
    "```\n",
    "\n",
    "While a hacky solution, hey, it works!\n",
    "\n",
    "With the model defined, we can train it just like any other model."
   ]
  },
  {
   "cell_type": "code",
   "execution_count": 3,
   "metadata": {},
   "outputs": [
    {
     "data": {
      "text/plain": [
       "Pipeline(memory=None,\n",
       "     steps=[('random_forest', RandomForestTransformer(bootstrap=True, criterion='mse', max_depth=None,\n",
       "            max_features=0.33, max_leaf_nodes=None,\n",
       "            min_impurity_decrease=0.0, min_impurity_split=None,\n",
       "            min_samples_leaf=1, min_samples_split=2,\n",
       "            min_weight_fraction_l..., ('quantile_calibrator', QuantileCalibrator(isotonic_fit=True, isotonic_lambda=1.0, quantiles=25))])"
      ]
     },
     "execution_count": 3,
     "metadata": {},
     "output_type": "execute_result"
    }
   ],
   "source": [
    "model.fit(X_train, y_train)"
   ]
  },
  {
   "cell_type": "markdown",
   "metadata": {},
   "source": [
    "With the model trained, we can check it's accuracy:"
   ]
  },
  {
   "cell_type": "code",
   "execution_count": 4,
   "metadata": {},
   "outputs": [
    {
     "data": {
      "text/plain": [
       "0.80199939099595974"
      ]
     },
     "execution_count": 4,
     "metadata": {},
     "output_type": "execute_result"
    }
   ],
   "source": [
    "from sklearn.metrics import r2_score\n",
    "\n",
    "r2_score(model.predict(X_test), y_test)"
   ]
  },
  {
   "cell_type": "markdown",
   "metadata": {},
   "source": [
    "For more, see http://scikit-learn.org/stable/modules/pipeline.html#pipeline"
   ]
  }
 ],
 "metadata": {
  "kernelspec": {
   "display_name": "Python 3",
   "language": "python",
   "name": "python3"
  },
  "language_info": {
   "codemirror_mode": {
    "name": "ipython",
    "version": 3
   },
   "file_extension": ".py",
   "mimetype": "text/x-python",
   "name": "python",
   "nbconvert_exporter": "python",
   "pygments_lexer": "ipython3",
   "version": "3.5.2"
  }
 },
 "nbformat": 4,
 "nbformat_minor": 2
}
